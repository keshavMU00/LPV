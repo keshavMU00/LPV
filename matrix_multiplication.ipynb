{
  "nbformat": 4,
  "nbformat_minor": 0,
  "metadata": {
    "colab": {
      "provenance": [],
      "gpuType": "T4"
    },
    "kernelspec": {
      "name": "python3",
      "display_name": "Python 3"
    },
    "language_info": {
      "name": "python"
    },
    "accelerator": "GPU"
  },
  "cells": [
    {
      "cell_type": "code",
      "execution_count": null,
      "metadata": {
        "colab": {
          "base_uri": "https://localhost:8080/"
        },
        "id": "4Mm-97zzrLo9",
        "outputId": "398478d5-f942-47c7-fbb6-4d9bf25d630b"
      },
      "outputs": [
        {
          "output_type": "stream",
          "name": "stdout",
          "text": [
            "Collecting pycuda\n",
            "  Downloading pycuda-2025.1.tar.gz (1.7 MB)\n",
            "\u001b[?25l     \u001b[90m━━━━━━━━━━━━━━━━━━━━━━━━━━━━━━━━━━━━━━━━\u001b[0m \u001b[32m0.0/1.7 MB\u001b[0m \u001b[31m?\u001b[0m eta \u001b[36m-:--:--\u001b[0m\r\u001b[2K     \u001b[91m━━━━━━━━━━━\u001b[0m\u001b[91m╸\u001b[0m\u001b[90m━━━━━━━━━━━━━━━━━━━━━━━━━━━━\u001b[0m \u001b[32m0.5/1.7 MB\u001b[0m \u001b[31m15.2 MB/s\u001b[0m eta \u001b[36m0:00:01\u001b[0m\r\u001b[2K     \u001b[90m━━━━━━━━━━━━━━━━━━━━━━━━━━━━━━━━━━━━━━━━\u001b[0m \u001b[32m1.7/1.7 MB\u001b[0m \u001b[31m26.3 MB/s\u001b[0m eta \u001b[36m0:00:00\u001b[0m\n",
            "\u001b[?25h  Installing build dependencies ... \u001b[?25l\u001b[?25hdone\n",
            "  Getting requirements to build wheel ... \u001b[?25l\u001b[?25hdone\n",
            "  Preparing metadata (pyproject.toml) ... \u001b[?25l\u001b[?25hdone\n",
            "Collecting pytools>=2011.2 (from pycuda)\n",
            "  Downloading pytools-2025.1.3-py3-none-any.whl.metadata (3.0 kB)\n",
            "Requirement already satisfied: platformdirs>=2.2.0 in /usr/local/lib/python3.11/dist-packages (from pycuda) (4.3.7)\n",
            "Requirement already satisfied: mako in /usr/lib/python3/dist-packages (from pycuda) (1.1.3)\n",
            "Collecting siphash24>=1.6 (from pytools>=2011.2->pycuda)\n",
            "  Downloading siphash24-1.7-cp311-cp311-manylinux_2_17_x86_64.manylinux2014_x86_64.whl.metadata (3.3 kB)\n",
            "Requirement already satisfied: typing-extensions>=4.5 in /usr/local/lib/python3.11/dist-packages (from pytools>=2011.2->pycuda) (4.13.2)\n",
            "Downloading pytools-2025.1.3-py3-none-any.whl (93 kB)\n",
            "\u001b[2K   \u001b[90m━━━━━━━━━━━━━━━━━━━━━━━━━━━━━━━━━━━━━━━━\u001b[0m \u001b[32m93.1/93.1 kB\u001b[0m \u001b[31m9.6 MB/s\u001b[0m eta \u001b[36m0:00:00\u001b[0m\n",
            "\u001b[?25hDownloading siphash24-1.7-cp311-cp311-manylinux_2_17_x86_64.manylinux2014_x86_64.whl (105 kB)\n",
            "\u001b[2K   \u001b[90m━━━━━━━━━━━━━━━━━━━━━━━━━━━━━━━━━━━━━━━━\u001b[0m \u001b[32m105.6/105.6 kB\u001b[0m \u001b[31m9.7 MB/s\u001b[0m eta \u001b[36m0:00:00\u001b[0m\n",
            "\u001b[?25hBuilding wheels for collected packages: pycuda\n",
            "  Building wheel for pycuda (pyproject.toml) ... \u001b[?25l\u001b[?25hdone\n",
            "  Created wheel for pycuda: filename=pycuda-2025.1-cp311-cp311-linux_x86_64.whl size=660427 sha256=c1551d173d6cbd6dd267c186a2579ed17f014604169875005202e5c5e239d150\n",
            "  Stored in directory: /root/.cache/pip/wheels/77/7e/6c/d2d1451ea6424cdc3d67b36c16fa7111eafdf2034bc3405666\n",
            "Successfully built pycuda\n",
            "Installing collected packages: siphash24, pytools, pycuda\n",
            "Successfully installed pycuda-2025.1 pytools-2025.1.3 siphash24-1.7\n"
          ]
        }
      ],
      "source": [
        "!pip install pycuda"
      ]
    },
    {
      "cell_type": "code",
      "source": [
        "import numpy as np\n",
        "import pycuda.driver as cuda\n",
        "import pycuda.autoinit\n",
        "from pycuda.compiler import SourceModule\n",
        "import time\n",
        "\n",
        "# CUDA kernel for matrix multiplication (optimized with shared memory)\n",
        "cuda_code = \"\"\"\n",
        "__global__ void matrixMul(float *A, float *B, float *C, int M, int N, int K) {\n",
        "    const int TILE_SIZE = 16;\n",
        "    __shared__ float As[TILE_SIZE][TILE_SIZE];\n",
        "    __shared__ float Bs[TILE_SIZE][TILE_SIZE];\n",
        "\n",
        "    int row = blockIdx.y * blockDim.y + threadIdx.y;\n",
        "    int col = blockIdx.x * blockDim.x + threadIdx.x;\n",
        "\n",
        "    float sum = 0.0f;\n",
        "    for (int t = 0; t < (N + TILE_SIZE - 1) / TILE_SIZE; t++) {\n",
        "        // Load tiles into shared memory\n",
        "        if (row < M && t * TILE_SIZE + threadIdx.x < N)\n",
        "            As[threadIdx.y][threadIdx.x] = A[row * N + t * TILE_SIZE + threadIdx.x];\n",
        "        else\n",
        "            As[threadIdx.y][threadIdx.x] = 0.0f;\n",
        "\n",
        "        if (t * TILE_SIZE + threadIdx.y < N && col < K)\n",
        "            Bs[threadIdx.y][threadIdx.x] = B[(t * TILE_SIZE + threadIdx.y) * K + col];\n",
        "        else\n",
        "            Bs[threadIdx.y][threadIdx.x] = 0.0f;\n",
        "\n",
        "        __syncthreads();\n",
        "\n",
        "        // Compute partial sum for the tile\n",
        "        for (int i = 0; i < TILE_SIZE; i++)\n",
        "            sum += As[threadIdx.y][i] * Bs[i][threadIdx.x];\n",
        "\n",
        "        __syncthreads();\n",
        "    }\n",
        "\n",
        "    if (row < M && col < K)\n",
        "        C[row * K + col] = sum;\n",
        "}\n",
        "\"\"\"\n",
        "\n",
        "# Function to input a 3x3 matrix row by row\n",
        "def input_matrix(matrix_name):\n",
        "    rows, cols = 3, 3\n",
        "    print(f\"Enter elements for matrix {matrix_name} (3x3):\")\n",
        "    matrix = np.zeros((rows, cols), dtype=np.float32)\n",
        "    for i in range(rows):\n",
        "        while True:\n",
        "            try:\n",
        "                # Prompt for one row\n",
        "                row_input = input(f\"Enter 3 elements for row {i+1} (space-separated): \")\n",
        "                values = [float(x) for x in row_input.split()]\n",
        "                if len(values) != cols:\n",
        "                    print(f\"Expected 3 elements, got {len(values)}. Try again.\")\n",
        "                    continue\n",
        "                matrix[i, :] = values\n",
        "                break\n",
        "            except ValueError:\n",
        "                print(\"Invalid input. Please enter valid numbers.\")\n",
        "    return matrix\n",
        "\n",
        "# Fixed matrix dimensions for 3x3 matrices\n",
        "M, N, K = 3, 3, 3  # A: 3x3, B: 3x3, C: 3x3\n",
        "\n",
        "# Input matrices A and B\n",
        "A = input_matrix(\"A\")\n",
        "B = input_matrix(\"B\")\n",
        "\n",
        "# Print input matrices for verification\n",
        "print(\"\\nMatrix A:\")\n",
        "print(A)\n",
        "print(\"\\nMatrix B:\")\n",
        "print(B)\n",
        "\n",
        "# Compile the CUDA kernel\n",
        "mod = SourceModule(cuda_code)\n",
        "matrix_mul = mod.get_function(\"matrixMul\")\n",
        "\n",
        "# Allocate GPU memory\n",
        "A_gpu = cuda.mem_alloc(A.nbytes)\n",
        "B_gpu = cuda.mem_alloc(B.nbytes)\n",
        "C_gpu = cuda.mem_alloc(M * K * np.float32().nbytes)\n",
        "\n",
        "# Copy input matrices to GPU\n",
        "cuda.memcpy_htod(A_gpu, A)\n",
        "cuda.memcpy_htod(B_gpu, B)\n",
        "\n",
        "# Initialize C_gpu to zero\n",
        "C_init = np.zeros((M, K), dtype=np.float32)\n",
        "cuda.memcpy_htod(C_gpu, C_init)\n",
        "\n",
        "# Set block and grid dimensions\n",
        "block_size = (16, 16, 1)\n",
        "grid_size = ((K + block_size[0] - 1) // block_size[0], (M + block_size[1] - 1) // block_size[1])\n",
        "\n",
        "# Execute the kernel\n",
        "start_time = time.time()\n",
        "matrix_mul(A_gpu, B_gpu, C_gpu,\n",
        "           np.int32(M), np.int32(N), np.int32(K),\n",
        "           block=block_size, grid=grid_size)\n",
        "cuda.Context.synchronize()\n",
        "gpu_time = time.time() - start_time\n",
        "\n",
        "# Copy result back to host\n",
        "C = np.empty((M, K), dtype=np.float32)\n",
        "cuda.memcpy_dtoh(C, C_gpu)\n",
        "\n",
        "# Verify result by comparing with NumPy\n",
        "C_np = np.dot(A, B).astype(np.float32)\n",
        "if np.allclose(C, C_np, atol=1e-4, rtol=1e-4):\n",
        "    print(f\"\\nGPU computation successful! Time taken: {gpu_time:.4f} seconds\")\n",
        "    print(\"\\nResult matrix C (GPU):\")\n",
        "    print(C)\n",
        "else:\n",
        "    print(\"\\nGPU computation failed!\")\n",
        "    print(f\"Max difference: {np.max(np.abs(C - C_np))}\")\n",
        "    print(\"\\nResult matrix C (GPU):\")\n",
        "    print(C)\n",
        "    print(\"\\nExpected matrix C (NumPy):\")\n",
        "    print(C_np)\n",
        "\n",
        "# Free GPU memory\n",
        "A_gpu.free()\n",
        "B_gpu.free()\n",
        "C_gpu.free()"
      ],
      "metadata": {
        "colab": {
          "base_uri": "https://localhost:8080/"
        },
        "id": "fOgGghJxvsnv",
        "outputId": "ef97d04b-457c-403e-aa63-7b7745ea781b"
      },
      "execution_count": 17,
      "outputs": [
        {
          "output_type": "stream",
          "name": "stdout",
          "text": [
            "Enter elements for matrix A (3x3):\n",
            "Enter 3 elements for row 1 (space-separated): 1 2 3\n",
            "Enter 3 elements for row 2 (space-separated): 1 2 3\n",
            "Enter 3 elements for row 3 (space-separated): 1 2 3\n",
            "Enter elements for matrix B (3x3):\n",
            "Enter 3 elements for row 1 (space-separated): 3 4 5\n",
            "Enter 3 elements for row 2 (space-separated): 5 6 7\n",
            "Enter 3 elements for row 3 (space-separated): 8  9 0\n",
            "\n",
            "Matrix A:\n",
            "[[1. 2. 3.]\n",
            " [1. 2. 3.]\n",
            " [1. 2. 3.]]\n",
            "\n",
            "Matrix B:\n",
            "[[3. 4. 5.]\n",
            " [5. 6. 7.]\n",
            " [8. 9. 0.]]\n",
            "\n",
            "GPU computation successful! Time taken: 0.0002 seconds\n",
            "\n",
            "Result matrix C (GPU):\n",
            "[[37. 43. 19.]\n",
            " [37. 43. 19.]\n",
            " [37. 43. 19.]]\n"
          ]
        }
      ]
    },
    {
      "cell_type": "code",
      "source": [
        "\n"
      ],
      "metadata": {
        "id": "ASs50Xlnz7iC"
      },
      "execution_count": null,
      "outputs": []
    },
    {
      "cell_type": "code",
      "source": [],
      "metadata": {
        "id": "Ja8S66Cg1vfc"
      },
      "execution_count": null,
      "outputs": []
    }
  ]
}